{
 "cells": [
  {
   "cell_type": "code",
   "execution_count": 36,
   "metadata": {},
   "outputs": [],
   "source": [
    "import numpy as np\n",
    "import pandas as pd\n",
    "from numpy.random import randn"
   ]
  },
  {
   "cell_type": "code",
   "execution_count": 37,
   "metadata": {},
   "outputs": [],
   "source": [
    "outerIndex = [\"Group1\",\"Group1\",\"Group1\",\"Group2\",\"Group2\",\"Group2\",\"Group3\",\"Group3\",\"Group3\"]"
   ]
  },
  {
   "cell_type": "code",
   "execution_count": 38,
   "metadata": {},
   "outputs": [],
   "source": [
    "İnnerIndex = [\"Index1\",\"Index2\",\"Index3\",\"Index1\",\"Index2\",\"Index3\",\"Index1\",\"Index2\",\"Index3\"]"
   ]
  },
  {
   "cell_type": "code",
   "execution_count": 39,
   "metadata": {},
   "outputs": [
    {
     "data": {
      "text/plain": [
       "[('Group1', 'Index1'),\n",
       " ('Group1', 'Index2'),\n",
       " ('Group1', 'Index3'),\n",
       " ('Group2', 'Index1'),\n",
       " ('Group2', 'Index2'),\n",
       " ('Group2', 'Index3'),\n",
       " ('Group3', 'Index1'),\n",
       " ('Group3', 'Index2'),\n",
       " ('Group3', 'Index3')]"
      ]
     },
     "execution_count": 39,
     "metadata": {},
     "output_type": "execute_result"
    }
   ],
   "source": [
    "list(zip(outerIndex,İnnerIndex))"
   ]
  },
  {
   "cell_type": "code",
   "execution_count": 40,
   "metadata": {},
   "outputs": [],
   "source": [
    "hierarchy = list(zip(outerIndex,İnnerIndex))"
   ]
  },
  {
   "cell_type": "code",
   "execution_count": 41,
   "metadata": {},
   "outputs": [],
   "source": [
    "hierarchy = pd.MultiIndex.from_tuples(hierarchy)"
   ]
  },
  {
   "cell_type": "code",
   "execution_count": 42,
   "metadata": {},
   "outputs": [
    {
     "data": {
      "text/plain": [
       "MultiIndex([('Group1', 'Index1'),\n",
       "            ('Group1', 'Index2'),\n",
       "            ('Group1', 'Index3'),\n",
       "            ('Group2', 'Index1'),\n",
       "            ('Group2', 'Index2'),\n",
       "            ('Group2', 'Index3'),\n",
       "            ('Group3', 'Index1'),\n",
       "            ('Group3', 'Index2'),\n",
       "            ('Group3', 'Index3')],\n",
       "           )"
      ]
     },
     "execution_count": 42,
     "metadata": {},
     "output_type": "execute_result"
    }
   ],
   "source": [
    "hierarchy"
   ]
  },
  {
   "cell_type": "code",
   "execution_count": 43,
   "metadata": {},
   "outputs": [],
   "source": [
    "df =pd.DataFrame(randn(9,3),hierarchy,columns = [\"Column1\",\"Column2\",\"Column3\"])"
   ]
  },
  {
   "cell_type": "code",
   "execution_count": 44,
   "metadata": {},
   "outputs": [
    {
     "data": {
      "text/html": [
       "<div>\n",
       "<style scoped>\n",
       "    .dataframe tbody tr th:only-of-type {\n",
       "        vertical-align: middle;\n",
       "    }\n",
       "\n",
       "    .dataframe tbody tr th {\n",
       "        vertical-align: top;\n",
       "    }\n",
       "\n",
       "    .dataframe thead th {\n",
       "        text-align: right;\n",
       "    }\n",
       "</style>\n",
       "<table border=\"1\" class=\"dataframe\">\n",
       "  <thead>\n",
       "    <tr style=\"text-align: right;\">\n",
       "      <th></th>\n",
       "      <th></th>\n",
       "      <th>Column1</th>\n",
       "      <th>Column2</th>\n",
       "      <th>Column3</th>\n",
       "    </tr>\n",
       "  </thead>\n",
       "  <tbody>\n",
       "    <tr>\n",
       "      <th rowspan=\"3\" valign=\"top\">Group1</th>\n",
       "      <th>Index1</th>\n",
       "      <td>-0.951419</td>\n",
       "      <td>1.152308</td>\n",
       "      <td>1.745728</td>\n",
       "    </tr>\n",
       "    <tr>\n",
       "      <th>Index2</th>\n",
       "      <td>0.104822</td>\n",
       "      <td>-0.306332</td>\n",
       "      <td>-1.854671</td>\n",
       "    </tr>\n",
       "    <tr>\n",
       "      <th>Index3</th>\n",
       "      <td>0.038403</td>\n",
       "      <td>0.878926</td>\n",
       "      <td>0.845145</td>\n",
       "    </tr>\n",
       "    <tr>\n",
       "      <th rowspan=\"3\" valign=\"top\">Group2</th>\n",
       "      <th>Index1</th>\n",
       "      <td>0.479941</td>\n",
       "      <td>-0.155364</td>\n",
       "      <td>-0.019007</td>\n",
       "    </tr>\n",
       "    <tr>\n",
       "      <th>Index2</th>\n",
       "      <td>1.574161</td>\n",
       "      <td>-0.620675</td>\n",
       "      <td>-1.037152</td>\n",
       "    </tr>\n",
       "    <tr>\n",
       "      <th>Index3</th>\n",
       "      <td>-1.132785</td>\n",
       "      <td>0.654406</td>\n",
       "      <td>0.346405</td>\n",
       "    </tr>\n",
       "    <tr>\n",
       "      <th rowspan=\"3\" valign=\"top\">Group3</th>\n",
       "      <th>Index1</th>\n",
       "      <td>1.367490</td>\n",
       "      <td>0.343573</td>\n",
       "      <td>1.296493</td>\n",
       "    </tr>\n",
       "    <tr>\n",
       "      <th>Index2</th>\n",
       "      <td>0.308917</td>\n",
       "      <td>-0.592158</td>\n",
       "      <td>2.236512</td>\n",
       "    </tr>\n",
       "    <tr>\n",
       "      <th>Index3</th>\n",
       "      <td>-1.112629</td>\n",
       "      <td>-1.344681</td>\n",
       "      <td>-2.156374</td>\n",
       "    </tr>\n",
       "  </tbody>\n",
       "</table>\n",
       "</div>"
      ],
      "text/plain": [
       "                Column1   Column2   Column3\n",
       "Group1 Index1 -0.951419  1.152308  1.745728\n",
       "       Index2  0.104822 -0.306332 -1.854671\n",
       "       Index3  0.038403  0.878926  0.845145\n",
       "Group2 Index1  0.479941 -0.155364 -0.019007\n",
       "       Index2  1.574161 -0.620675 -1.037152\n",
       "       Index3 -1.132785  0.654406  0.346405\n",
       "Group3 Index1  1.367490  0.343573  1.296493\n",
       "       Index2  0.308917 -0.592158  2.236512\n",
       "       Index3 -1.112629 -1.344681 -2.156374"
      ]
     },
     "execution_count": 44,
     "metadata": {},
     "output_type": "execute_result"
    }
   ],
   "source": [
    "df"
   ]
  },
  {
   "cell_type": "code",
   "execution_count": 45,
   "metadata": {},
   "outputs": [
    {
     "data": {
      "text/plain": [
       "Group1  Index1   -0.951419\n",
       "        Index2    0.104822\n",
       "        Index3    0.038403\n",
       "Group2  Index1    0.479941\n",
       "        Index2    1.574161\n",
       "        Index3   -1.132785\n",
       "Group3  Index1    1.367490\n",
       "        Index2    0.308917\n",
       "        Index3   -1.112629\n",
       "Name: Column1, dtype: float64"
      ]
     },
     "execution_count": 45,
     "metadata": {},
     "output_type": "execute_result"
    }
   ],
   "source": [
    "df[\"Column1\"]"
   ]
  },
  {
   "cell_type": "code",
   "execution_count": 46,
   "metadata": {},
   "outputs": [
    {
     "data": {
      "text/html": [
       "<div>\n",
       "<style scoped>\n",
       "    .dataframe tbody tr th:only-of-type {\n",
       "        vertical-align: middle;\n",
       "    }\n",
       "\n",
       "    .dataframe tbody tr th {\n",
       "        vertical-align: top;\n",
       "    }\n",
       "\n",
       "    .dataframe thead th {\n",
       "        text-align: right;\n",
       "    }\n",
       "</style>\n",
       "<table border=\"1\" class=\"dataframe\">\n",
       "  <thead>\n",
       "    <tr style=\"text-align: right;\">\n",
       "      <th></th>\n",
       "      <th>Column1</th>\n",
       "      <th>Column2</th>\n",
       "      <th>Column3</th>\n",
       "    </tr>\n",
       "  </thead>\n",
       "  <tbody>\n",
       "    <tr>\n",
       "      <th>Index1</th>\n",
       "      <td>-0.951419</td>\n",
       "      <td>1.152308</td>\n",
       "      <td>1.745728</td>\n",
       "    </tr>\n",
       "    <tr>\n",
       "      <th>Index2</th>\n",
       "      <td>0.104822</td>\n",
       "      <td>-0.306332</td>\n",
       "      <td>-1.854671</td>\n",
       "    </tr>\n",
       "    <tr>\n",
       "      <th>Index3</th>\n",
       "      <td>0.038403</td>\n",
       "      <td>0.878926</td>\n",
       "      <td>0.845145</td>\n",
       "    </tr>\n",
       "  </tbody>\n",
       "</table>\n",
       "</div>"
      ],
      "text/plain": [
       "         Column1   Column2   Column3\n",
       "Index1 -0.951419  1.152308  1.745728\n",
       "Index2  0.104822 -0.306332 -1.854671\n",
       "Index3  0.038403  0.878926  0.845145"
      ]
     },
     "execution_count": 46,
     "metadata": {},
     "output_type": "execute_result"
    }
   ],
   "source": [
    "df.loc[\"Group1\"]"
   ]
  },
  {
   "cell_type": "code",
   "execution_count": 47,
   "metadata": {},
   "outputs": [
    {
     "data": {
      "text/html": [
       "<div>\n",
       "<style scoped>\n",
       "    .dataframe tbody tr th:only-of-type {\n",
       "        vertical-align: middle;\n",
       "    }\n",
       "\n",
       "    .dataframe tbody tr th {\n",
       "        vertical-align: top;\n",
       "    }\n",
       "\n",
       "    .dataframe thead th {\n",
       "        text-align: right;\n",
       "    }\n",
       "</style>\n",
       "<table border=\"1\" class=\"dataframe\">\n",
       "  <thead>\n",
       "    <tr style=\"text-align: right;\">\n",
       "      <th></th>\n",
       "      <th></th>\n",
       "      <th>Column1</th>\n",
       "      <th>Column2</th>\n",
       "      <th>Column3</th>\n",
       "    </tr>\n",
       "  </thead>\n",
       "  <tbody>\n",
       "    <tr>\n",
       "      <th rowspan=\"3\" valign=\"top\">Group1</th>\n",
       "      <th>Index1</th>\n",
       "      <td>-0.951419</td>\n",
       "      <td>1.152308</td>\n",
       "      <td>1.745728</td>\n",
       "    </tr>\n",
       "    <tr>\n",
       "      <th>Index2</th>\n",
       "      <td>0.104822</td>\n",
       "      <td>-0.306332</td>\n",
       "      <td>-1.854671</td>\n",
       "    </tr>\n",
       "    <tr>\n",
       "      <th>Index3</th>\n",
       "      <td>0.038403</td>\n",
       "      <td>0.878926</td>\n",
       "      <td>0.845145</td>\n",
       "    </tr>\n",
       "    <tr>\n",
       "      <th rowspan=\"3\" valign=\"top\">Group2</th>\n",
       "      <th>Index1</th>\n",
       "      <td>0.479941</td>\n",
       "      <td>-0.155364</td>\n",
       "      <td>-0.019007</td>\n",
       "    </tr>\n",
       "    <tr>\n",
       "      <th>Index2</th>\n",
       "      <td>1.574161</td>\n",
       "      <td>-0.620675</td>\n",
       "      <td>-1.037152</td>\n",
       "    </tr>\n",
       "    <tr>\n",
       "      <th>Index3</th>\n",
       "      <td>-1.132785</td>\n",
       "      <td>0.654406</td>\n",
       "      <td>0.346405</td>\n",
       "    </tr>\n",
       "  </tbody>\n",
       "</table>\n",
       "</div>"
      ],
      "text/plain": [
       "                Column1   Column2   Column3\n",
       "Group1 Index1 -0.951419  1.152308  1.745728\n",
       "       Index2  0.104822 -0.306332 -1.854671\n",
       "       Index3  0.038403  0.878926  0.845145\n",
       "Group2 Index1  0.479941 -0.155364 -0.019007\n",
       "       Index2  1.574161 -0.620675 -1.037152\n",
       "       Index3 -1.132785  0.654406  0.346405"
      ]
     },
     "execution_count": 47,
     "metadata": {},
     "output_type": "execute_result"
    }
   ],
   "source": [
    "df.loc[[\"Group1\",\"Group2\"]]"
   ]
  },
  {
   "cell_type": "code",
   "execution_count": 50,
   "metadata": {},
   "outputs": [
    {
     "data": {
      "text/plain": [
       "-0.9514187998875829"
      ]
     },
     "execution_count": 50,
     "metadata": {},
     "output_type": "execute_result"
    }
   ],
   "source": [
    "df.loc[\"Group1\"].loc[\"Index1\"][\"Column1\"]"
   ]
  },
  {
   "cell_type": "code",
   "execution_count": 53,
   "metadata": {},
   "outputs": [
    {
     "data": {
      "text/plain": [
       "FrozenList([None, None])"
      ]
     },
     "execution_count": 53,
     "metadata": {},
     "output_type": "execute_result"
    }
   ],
   "source": [
    "df.index.names"
   ]
  },
  {
   "cell_type": "code",
   "execution_count": 56,
   "metadata": {},
   "outputs": [],
   "source": [
    "df.index.names = [\"Groups\",\"Indexes\"]"
   ]
  },
  {
   "cell_type": "code",
   "execution_count": 57,
   "metadata": {},
   "outputs": [
    {
     "data": {
      "text/html": [
       "<div>\n",
       "<style scoped>\n",
       "    .dataframe tbody tr th:only-of-type {\n",
       "        vertical-align: middle;\n",
       "    }\n",
       "\n",
       "    .dataframe tbody tr th {\n",
       "        vertical-align: top;\n",
       "    }\n",
       "\n",
       "    .dataframe thead th {\n",
       "        text-align: right;\n",
       "    }\n",
       "</style>\n",
       "<table border=\"1\" class=\"dataframe\">\n",
       "  <thead>\n",
       "    <tr style=\"text-align: right;\">\n",
       "      <th></th>\n",
       "      <th></th>\n",
       "      <th>Column1</th>\n",
       "      <th>Column2</th>\n",
       "      <th>Column3</th>\n",
       "    </tr>\n",
       "    <tr>\n",
       "      <th>Groups</th>\n",
       "      <th>Indexes</th>\n",
       "      <th></th>\n",
       "      <th></th>\n",
       "      <th></th>\n",
       "    </tr>\n",
       "  </thead>\n",
       "  <tbody>\n",
       "    <tr>\n",
       "      <th rowspan=\"3\" valign=\"top\">Group1</th>\n",
       "      <th>Index1</th>\n",
       "      <td>-0.951419</td>\n",
       "      <td>1.152308</td>\n",
       "      <td>1.745728</td>\n",
       "    </tr>\n",
       "    <tr>\n",
       "      <th>Index2</th>\n",
       "      <td>0.104822</td>\n",
       "      <td>-0.306332</td>\n",
       "      <td>-1.854671</td>\n",
       "    </tr>\n",
       "    <tr>\n",
       "      <th>Index3</th>\n",
       "      <td>0.038403</td>\n",
       "      <td>0.878926</td>\n",
       "      <td>0.845145</td>\n",
       "    </tr>\n",
       "    <tr>\n",
       "      <th rowspan=\"3\" valign=\"top\">Group2</th>\n",
       "      <th>Index1</th>\n",
       "      <td>0.479941</td>\n",
       "      <td>-0.155364</td>\n",
       "      <td>-0.019007</td>\n",
       "    </tr>\n",
       "    <tr>\n",
       "      <th>Index2</th>\n",
       "      <td>1.574161</td>\n",
       "      <td>-0.620675</td>\n",
       "      <td>-1.037152</td>\n",
       "    </tr>\n",
       "    <tr>\n",
       "      <th>Index3</th>\n",
       "      <td>-1.132785</td>\n",
       "      <td>0.654406</td>\n",
       "      <td>0.346405</td>\n",
       "    </tr>\n",
       "    <tr>\n",
       "      <th rowspan=\"3\" valign=\"top\">Group3</th>\n",
       "      <th>Index1</th>\n",
       "      <td>1.367490</td>\n",
       "      <td>0.343573</td>\n",
       "      <td>1.296493</td>\n",
       "    </tr>\n",
       "    <tr>\n",
       "      <th>Index2</th>\n",
       "      <td>0.308917</td>\n",
       "      <td>-0.592158</td>\n",
       "      <td>2.236512</td>\n",
       "    </tr>\n",
       "    <tr>\n",
       "      <th>Index3</th>\n",
       "      <td>-1.112629</td>\n",
       "      <td>-1.344681</td>\n",
       "      <td>-2.156374</td>\n",
       "    </tr>\n",
       "  </tbody>\n",
       "</table>\n",
       "</div>"
      ],
      "text/plain": [
       "                 Column1   Column2   Column3\n",
       "Groups Indexes                              \n",
       "Group1 Index1  -0.951419  1.152308  1.745728\n",
       "       Index2   0.104822 -0.306332 -1.854671\n",
       "       Index3   0.038403  0.878926  0.845145\n",
       "Group2 Index1   0.479941 -0.155364 -0.019007\n",
       "       Index2   1.574161 -0.620675 -1.037152\n",
       "       Index3  -1.132785  0.654406  0.346405\n",
       "Group3 Index1   1.367490  0.343573  1.296493\n",
       "       Index2   0.308917 -0.592158  2.236512\n",
       "       Index3  -1.112629 -1.344681 -2.156374"
      ]
     },
     "execution_count": 57,
     "metadata": {},
     "output_type": "execute_result"
    }
   ],
   "source": [
    "df"
   ]
  },
  {
   "cell_type": "code",
   "execution_count": 58,
   "metadata": {},
   "outputs": [
    {
     "data": {
      "text/html": [
       "<div>\n",
       "<style scoped>\n",
       "    .dataframe tbody tr th:only-of-type {\n",
       "        vertical-align: middle;\n",
       "    }\n",
       "\n",
       "    .dataframe tbody tr th {\n",
       "        vertical-align: top;\n",
       "    }\n",
       "\n",
       "    .dataframe thead th {\n",
       "        text-align: right;\n",
       "    }\n",
       "</style>\n",
       "<table border=\"1\" class=\"dataframe\">\n",
       "  <thead>\n",
       "    <tr style=\"text-align: right;\">\n",
       "      <th></th>\n",
       "      <th>Column1</th>\n",
       "      <th>Column2</th>\n",
       "      <th>Column3</th>\n",
       "    </tr>\n",
       "    <tr>\n",
       "      <th>Indexes</th>\n",
       "      <th></th>\n",
       "      <th></th>\n",
       "      <th></th>\n",
       "    </tr>\n",
       "  </thead>\n",
       "  <tbody>\n",
       "    <tr>\n",
       "      <th>Index1</th>\n",
       "      <td>-0.951419</td>\n",
       "      <td>1.152308</td>\n",
       "      <td>1.745728</td>\n",
       "    </tr>\n",
       "    <tr>\n",
       "      <th>Index2</th>\n",
       "      <td>0.104822</td>\n",
       "      <td>-0.306332</td>\n",
       "      <td>-1.854671</td>\n",
       "    </tr>\n",
       "    <tr>\n",
       "      <th>Index3</th>\n",
       "      <td>0.038403</td>\n",
       "      <td>0.878926</td>\n",
       "      <td>0.845145</td>\n",
       "    </tr>\n",
       "  </tbody>\n",
       "</table>\n",
       "</div>"
      ],
      "text/plain": [
       "          Column1   Column2   Column3\n",
       "Indexes                              \n",
       "Index1  -0.951419  1.152308  1.745728\n",
       "Index2   0.104822 -0.306332 -1.854671\n",
       "Index3   0.038403  0.878926  0.845145"
      ]
     },
     "execution_count": 58,
     "metadata": {},
     "output_type": "execute_result"
    }
   ],
   "source": [
    "df.xs(\"Group1\")"
   ]
  },
  {
   "cell_type": "code",
   "execution_count": 60,
   "metadata": {},
   "outputs": [
    {
     "data": {
      "text/plain": [
       "Column1   -0.951419\n",
       "Column2    1.152308\n",
       "Column3    1.745728\n",
       "Name: Index1, dtype: float64"
      ]
     },
     "execution_count": 60,
     "metadata": {},
     "output_type": "execute_result"
    }
   ],
   "source": [
    "df.xs(\"Group1\").xs(\"Index1\")"
   ]
  },
  {
   "cell_type": "code",
   "execution_count": 61,
   "metadata": {},
   "outputs": [
    {
     "data": {
      "text/plain": [
       "-0.9514187998875829"
      ]
     },
     "execution_count": 61,
     "metadata": {},
     "output_type": "execute_result"
    }
   ],
   "source": [
    "df.xs(\"Group1\").xs(\"Index1\").xs(\"Column1\")"
   ]
  },
  {
   "cell_type": "code",
   "execution_count": 63,
   "metadata": {},
   "outputs": [
    {
     "data": {
      "text/html": [
       "<div>\n",
       "<style scoped>\n",
       "    .dataframe tbody tr th:only-of-type {\n",
       "        vertical-align: middle;\n",
       "    }\n",
       "\n",
       "    .dataframe tbody tr th {\n",
       "        vertical-align: top;\n",
       "    }\n",
       "\n",
       "    .dataframe thead th {\n",
       "        text-align: right;\n",
       "    }\n",
       "</style>\n",
       "<table border=\"1\" class=\"dataframe\">\n",
       "  <thead>\n",
       "    <tr style=\"text-align: right;\">\n",
       "      <th></th>\n",
       "      <th>Column1</th>\n",
       "      <th>Column2</th>\n",
       "      <th>Column3</th>\n",
       "    </tr>\n",
       "    <tr>\n",
       "      <th>Groups</th>\n",
       "      <th></th>\n",
       "      <th></th>\n",
       "      <th></th>\n",
       "    </tr>\n",
       "  </thead>\n",
       "  <tbody>\n",
       "    <tr>\n",
       "      <th>Group1</th>\n",
       "      <td>-0.951419</td>\n",
       "      <td>1.152308</td>\n",
       "      <td>1.745728</td>\n",
       "    </tr>\n",
       "    <tr>\n",
       "      <th>Group2</th>\n",
       "      <td>0.479941</td>\n",
       "      <td>-0.155364</td>\n",
       "      <td>-0.019007</td>\n",
       "    </tr>\n",
       "    <tr>\n",
       "      <th>Group3</th>\n",
       "      <td>1.367490</td>\n",
       "      <td>0.343573</td>\n",
       "      <td>1.296493</td>\n",
       "    </tr>\n",
       "  </tbody>\n",
       "</table>\n",
       "</div>"
      ],
      "text/plain": [
       "         Column1   Column2   Column3\n",
       "Groups                              \n",
       "Group1 -0.951419  1.152308  1.745728\n",
       "Group2  0.479941 -0.155364 -0.019007\n",
       "Group3  1.367490  0.343573  1.296493"
      ]
     },
     "execution_count": 63,
     "metadata": {},
     "output_type": "execute_result"
    }
   ],
   "source": [
    "df.xs(\"Index1\",level = \"Indexes\")"
   ]
  },
  {
   "cell_type": "code",
   "execution_count": null,
   "metadata": {},
   "outputs": [],
   "source": []
  }
 ],
 "metadata": {
  "kernelspec": {
   "display_name": "Python 3",
   "language": "python",
   "name": "python3"
  },
  "language_info": {
   "codemirror_mode": {
    "name": "ipython",
    "version": 3
   },
   "file_extension": ".py",
   "mimetype": "text/x-python",
   "name": "python",
   "nbconvert_exporter": "python",
   "pygments_lexer": "ipython3",
   "version": "3.7.6"
  }
 },
 "nbformat": 4,
 "nbformat_minor": 4
}
